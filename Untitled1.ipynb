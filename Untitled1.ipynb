{
  "nbformat": 4,
  "nbformat_minor": 0,
  "metadata": {
    "colab": {
      "provenance": [],
      "authorship_tag": "ABX9TyMRihnhPjYCXRIm9d+pK0W8",
      "include_colab_link": true
    },
    "kernelspec": {
      "name": "python3",
      "display_name": "Python 3"
    },
    "language_info": {
      "name": "python"
    }
  },
  "cells": [
    {
      "cell_type": "markdown",
      "metadata": {
        "id": "view-in-github",
        "colab_type": "text"
      },
      "source": [
        "<a href=\"https://colab.research.google.com/github/AleizerJaneth/Proyecto-Django/blob/main/Untitled1.ipynb\" target=\"_parent\"><img src=\"https://colab.research.google.com/assets/colab-badge.svg\" alt=\"Open In Colab\"/></a>"
      ]
    },
    {
      "cell_type": "code",
      "execution_count": null,
      "metadata": {
        "id": "i9Zz_cP4waGP"
      },
      "outputs": [],
      "source": []
    },
    {
      "cell_type": "markdown",
      "source": [
        "Leccion 1\n",
        "\n",
        "Es importante comprender la entrada y salida de datos en Python por que con ello nosotros podemos decirle al usuario que debe hacer en el programa y con la salida el usuario ve el resultado\n",
        "\n",
        "\n",
        "Las variables en Python sirven para darle estructura al programa, por medio de ellas le decimos al programa que hacer\n",
        "\n",
        "En yupiter podemos hacer texto solamente si así lo queremos, en Python necesitamos codigos para realizar un programa"
      ],
      "metadata": {
        "id": "fxV2Mvqowjw5"
      }
    }
  ]
}